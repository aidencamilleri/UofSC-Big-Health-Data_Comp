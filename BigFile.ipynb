{
 "cells": [
  {
   "cell_type": "code",
   "execution_count": null,
   "id": "7c859ad5",
   "metadata": {},
   "outputs": [],
   "source": [
    "import pandas as pd\n",
    "import numpy as np\n",
    "from sklearn.decomposition import PCA"
   ]
  },
  {
   "cell_type": "code",
   "execution_count": null,
   "id": "d4ebd249",
   "metadata": {},
   "outputs": [],
   "source": [
    "df = pd.read_csv(\"/Users/aidencamilleri/Downloads/top5Genes.csv\")\n",
    "df.shape"
   ]
  },
  {
   "cell_type": "code",
   "execution_count": null,
   "id": "f2b6d4e5",
   "metadata": {},
   "outputs": [],
   "source": [
    "df = df.rename(columns={'Unnamed: 0': 'Gene_ID'})\n",
    "df = df.set_index(keys='Gene_ID')\n",
    "df.head()"
   ]
  },
  {
   "cell_type": "code",
   "execution_count": null,
   "id": "9b74395b",
   "metadata": {},
   "outputs": [],
   "source": [
    "pca = PCA(n_components=50)\n",
    "npNew = pca.fit_transform(df)"
   ]
  },
  {
   "cell_type": "code",
   "execution_count": null,
   "id": "5f382c38",
   "metadata": {},
   "outputs": [],
   "source": [
    "dfNew = pd.DataFrame(npNew)"
   ]
  },
  {
   "cell_type": "code",
   "execution_count": null,
   "id": "c29e4bec",
   "metadata": {},
   "outputs": [],
   "source": [
    "dfNew.head()"
   ]
  },
  {
   "cell_type": "code",
   "execution_count": null,
   "id": "c10fcb2f",
   "metadata": {},
   "outputs": [],
   "source": [
    "from sklearn.manifold import TSNE\n",
    "X_embedded = TSNE(n_components=2, learning_rate='auto', perplexity=50).fit_transform(dfNew)\n",
    "dfTSNE = pd.DataFrame(X_embedded)"
   ]
  },
  {
   "cell_type": "code",
   "execution_count": null,
   "id": "be8c24ea",
   "metadata": {},
   "outputs": [],
   "source": [
    "import matplotlib.pyplot as plt"
   ]
  },
  {
   "cell_type": "code",
   "execution_count": null,
   "id": "90310221",
   "metadata": {},
   "outputs": [],
   "source": [
    "dfTSNE.columns = [\"one\", \"two\"]\n",
    "dfTSNE.head()"
   ]
  },
  {
   "cell_type": "code",
   "execution_count": null,
   "id": "a3fc3b57",
   "metadata": {},
   "outputs": [],
   "source": [
    "plt.scatter(dfTSNE[\"one\"], dfTSNE[\"two\"])\n",
    "plt.show()"
   ]
  },
  {
   "cell_type": "code",
   "execution_count": null,
   "id": "af8d4fdd",
   "metadata": {},
   "outputs": [],
   "source": [
    "from sklearn.cluster import KMeans"
   ]
  },
  {
   "cell_type": "code",
   "execution_count": null,
   "id": "289cf4de",
   "metadata": {},
   "outputs": [],
   "source": [
    "kmeans = KMeans(n_clusters = 2)\n",
    "kmeans = kmeans.fit(X_embedded)\n",
    "npPredict = kmeans.predict(dfTSNE)\n",
    "dfPredict = pd.DataFrame(npPredict)\n",
    "dfPredict.columns = ['Prediction']"
   ]
  },
  {
   "cell_type": "code",
   "execution_count": null,
   "id": "dee25caa",
   "metadata": {},
   "outputs": [],
   "source": [
    "dfTSNE.columns = ['one', 'two']\n",
    "dfPredict = dfTSNE.join(dfPredict)"
   ]
  },
  {
   "cell_type": "code",
   "execution_count": null,
   "id": "99addf3b",
   "metadata": {},
   "outputs": [],
   "source": [
    "plt.scatter(dfPredict[\"one\"], dfPredict[\"two\"], s=15 , c=dfPredict[\"Prediction\"], cmap='cool', alpha=0.3)\n",
    "plt.show()"
   ]
  },
  {
   "cell_type": "code",
   "execution_count": null,
   "id": "ea0b866f",
   "metadata": {},
   "outputs": [],
   "source": [
    "dfPredict.head()"
   ]
  },
  {
   "cell_type": "code",
   "execution_count": null,
   "id": "0dd68ccc",
   "metadata": {},
   "outputs": [],
   "source": [
    "#df = df.join(dfPredict['Prediction'])\n",
    "df.head()"
   ]
  },
  {
   "cell_type": "code",
   "execution_count": null,
   "id": "ed6d1319",
   "metadata": {},
   "outputs": [],
   "source": [
    "from sklearn.ensemble import RandomForestClassifier\n",
    "from sklearn.model_selection import train_test_split"
   ]
  },
  {
   "cell_type": "code",
   "execution_count": null,
   "id": "3508930a",
   "metadata": {},
   "outputs": [],
   "source": [
    "#f.loc[:, df.columns!='Prediction'].head()\n",
    "X_train, X_test, y_train, y_test = train_test_split(df, dfPredict['Prediction'], test_size=0.33)\n",
    "clf = RandomForestClassifier(n_estimators=1000, max_depth=4)\n",
    "clf.fit(X_train, y_train)"
   ]
  },
  {
   "cell_type": "code",
   "execution_count": null,
   "id": "fc535637",
   "metadata": {},
   "outputs": [],
   "source": [
    "from sklearn.metrics import accuracy_score\n",
    "from sklearn.metrics import confusion_matrix"
   ]
  },
  {
   "cell_type": "code",
   "execution_count": null,
   "id": "e9de847e",
   "metadata": {},
   "outputs": [],
   "source": [
    "forestPredict = clf.predict(X_test)\n",
    "print(accuracy_score(y_test, forestPredict, normalize=True))"
   ]
  },
  {
   "cell_type": "code",
   "execution_count": null,
   "id": "9ff333cc",
   "metadata": {},
   "outputs": [],
   "source": [
    "import seaborn as sns"
   ]
  },
  {
   "cell_type": "code",
   "execution_count": null,
   "id": "0d6e2e31",
   "metadata": {},
   "outputs": [],
   "source": [
    "sns.heatmap(confusion_matrix(y_test, forestPredict))\n",
    "sns.set_theme(style='darkgrid')\n",
    "plt.show()"
   ]
  },
  {
   "cell_type": "code",
   "execution_count": null,
   "id": "36afeebb",
   "metadata": {},
   "outputs": [],
   "source": [
    "print(confusion_matrix(y_test, forestPredict))"
   ]
  },
  {
   "cell_type": "code",
   "execution_count": null,
   "id": "762b63af",
   "metadata": {},
   "outputs": [],
   "source": [
    "importances = clf.feature_importances_\n",
    "forest_importances = pd.Series(importances)"
   ]
  },
  {
   "cell_type": "code",
   "execution_count": null,
   "id": "d8009616",
   "metadata": {},
   "outputs": [],
   "source": [
    "forest_importances.index = (df.loc[:, df.columns!='Prediction']).columns\n",
    "print(forest_importances)"
   ]
  },
  {
   "cell_type": "code",
   "execution_count": null,
   "id": "e2026e0b",
   "metadata": {},
   "outputs": [],
   "source": [
    "forest_importances = forest_importances.loc[lambda x : x > 0.04]\n",
    "print(forest_importances)"
   ]
  },
  {
   "cell_type": "code",
   "execution_count": null,
   "id": "d841b7a3",
   "metadata": {},
   "outputs": [],
   "source": [
    "dfPredict.index = df.index"
   ]
  },
  {
   "cell_type": "code",
   "execution_count": null,
   "id": "5f175137",
   "metadata": {},
   "outputs": [],
   "source": [
    "dfPredict.head()"
   ]
  },
  {
   "cell_type": "code",
   "execution_count": null,
   "id": "81b18247",
   "metadata": {},
   "outputs": [],
   "source": [
    "predict1 = dfPredict[dfPredict['Prediction'] == 1]\n",
    "predict0 = dfPredict[dfPredict['Prediction'] == 0]\n",
    "predict0.head()"
   ]
  },
  {
   "cell_type": "code",
   "execution_count": null,
   "id": "39a77f58",
   "metadata": {},
   "outputs": [],
   "source": [
    "predict1.head()"
   ]
  },
  {
   "cell_type": "code",
   "execution_count": null,
   "id": "c402e122",
   "metadata": {},
   "outputs": [],
   "source": [
    "predict1.to_csv('/Users/aidencamilleri/Downloads/predict2.csv')\n",
    "predict0.to_csv('/Users/aidencamilleri/Downloads/predict3.csv')"
   ]
  },
  {
   "cell_type": "code",
   "execution_count": null,
   "id": "2007e272",
   "metadata": {},
   "outputs": [],
   "source": []
  }
 ],
 "metadata": {
  "kernelspec": {
   "display_name": "Python 3 (ipykernel)",
   "language": "python",
   "name": "python3"
  },
  "language_info": {
   "codemirror_mode": {
    "name": "ipython",
    "version": 3
   },
   "file_extension": ".py",
   "mimetype": "text/x-python",
   "name": "python",
   "nbconvert_exporter": "python",
   "pygments_lexer": "ipython3",
   "version": "3.9.12"
  }
 },
 "nbformat": 4,
 "nbformat_minor": 5
}
